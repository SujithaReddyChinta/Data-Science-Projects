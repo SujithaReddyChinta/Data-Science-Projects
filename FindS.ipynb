{
  "nbformat": 4,
  "nbformat_minor": 0,
  "metadata": {
    "colab": {
      "provenance": []
    },
    "kernelspec": {
      "name": "python3",
      "display_name": "Python 3"
    },
    "language_info": {
      "name": "python"
    }
  },
  "cells": [
    {
      "cell_type": "code",
      "metadata": {
        "id": "gHntEMTQffV3"
      },
      "source": [
        "import random\n",
        "import csv"
      ],
      "execution_count": null,
      "outputs": []
    },
    {
      "cell_type": "code",
      "metadata": {
        "id": "FAVzweVXfkoY"
      },
      "source": [
        "attributes=[['regular','not regular'],['regular','not regular'],['good','bad']]"
      ],
      "execution_count": null,
      "outputs": []
    },
    {
      "cell_type": "code",
      "metadata": {
        "id": "Lh1Uyo4efmzX"
      },
      "source": [
        "num_attributes = len(attributes) #finding number of attributes"
      ],
      "execution_count": null,
      "outputs": []
    },
    {
      "cell_type": "code",
      "metadata": {
        "id": "KwvWo_bXfpff"
      },
      "source": [
        "print (\" \\n The most general hypothesis : ['?','?','?','?','?','?']\\n\")\n",
        "print (\"\\n The most specific hypothesis : ['0','0','0','0','0','0']\\n\")\n",
        "#printing initial general and most specific hypothesis"
      ],
      "execution_count": null,
      "outputs": []
    },
    {
      "cell_type": "code",
      "metadata": {
        "id": "Gd-PFpqTfsE_"
      },
      "source": [
        "a = []\n",
        "print(\"\\n The Given Training Data Set \\n\")"
      ],
      "execution_count": null,
      "outputs": []
    },
    {
      "cell_type": "code",
      "metadata": {
        "id": "pakDnDtjft6P"
      },
      "source": [
        "with open('/content/finds.csv', 'r') as csvFile:\n",
        "    reader = csv.reader(csvFile)\n",
        "    for row in reader:\n",
        "        a.append (row)\n",
        "        print(row)\n",
        "#appending all the attributes values into the training set"
      ],
      "execution_count": null,
      "outputs": []
    },
    {
      "cell_type": "code",
      "metadata": {
        "id": "YynbaVsBfwgv"
      },
      "source": [
        "print(\"\\n The initial value of hypothesis: \")\n",
        "hypothesis = ['0'] * num_attributes #initialising the hypothesis to 0\n",
        "print(hypothesis)\n"
      ],
      "execution_count": null,
      "outputs": []
    },
    {
      "cell_type": "code",
      "metadata": {
        "id": "VvpyW7o-fyim"
      },
      "source": [
        "# Comparing with First Training Example\n",
        "for j in range(0,num_attributes):\n",
        "        hypothesis[j] = a[0][j];"
      ],
      "execution_count": null,
      "outputs": []
    },
    {
      "cell_type": "code",
      "metadata": {
        "id": "pH4GGr3xf2vv"
      },
      "source": [
        "# Comparing with Remaining Training Examples of Given Data Set\n",
        "\n",
        "print(\"\\n Find S: Finding a Maximally Specific Hypothesis\\n\")\n",
        "\n",
        "for i in range(0,len(a)):\n",
        "    if a[i][num_attributes]=='pass':\n",
        "            for j in range(0,num_attributes):\n",
        "                if a[i][j]!=hypothesis[j]:\n",
        "                    hypothesis[j]='?'\n",
        "                else :\n",
        "                    hypothesis[j]= a[i][j]\n",
        "    print(\" For Training Example No :{0} the hypothesis is \".format(i),hypothesis)"
      ],
      "execution_count": null,
      "outputs": []
    },
    {
      "cell_type": "code",
      "metadata": {
        "id": "dE8vdiN7f3QH"
      },
      "source": [
        "print(\"\\n The Maximally Specific Hypothesis for a given Training Examples :\\n\")\n",
        "print(hypothesis)"
      ],
      "execution_count": null,
      "outputs": []
    },
    {
      "cell_type": "code",
      "metadata": {
        "id": "HiH-IaYQf5g3"
      },
      "source": [
        "attributes1=[['sunny','rainy'],['warm','cold'],['normal','high'],['strong','weak'],['warm','cool'],['same','change']]"
      ],
      "execution_count": null,
      "outputs": []
    },
    {
      "cell_type": "code",
      "metadata": {
        "id": "d0gYwe46f92v"
      },
      "source": [
        "num_attributes = len(attributes1) #finding number of attributes"
      ],
      "execution_count": null,
      "outputs": []
    }
  ]
}